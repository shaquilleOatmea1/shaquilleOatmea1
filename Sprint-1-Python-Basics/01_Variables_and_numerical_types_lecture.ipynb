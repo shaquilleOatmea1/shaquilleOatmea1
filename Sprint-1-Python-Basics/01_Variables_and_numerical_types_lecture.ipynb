{
  "cells": [
    {
      "cell_type": "markdown",
      "metadata": {
        "id": "view-in-github",
        "colab_type": "text"
      },
      "source": [
        "<a href=\"https://colab.research.google.com/github/shaquilleOatmea1/shaquilleOatmea1/blob/main/Sprint-1-Python-Basics/01_Variables_and_numerical_types_lecture.ipynb\" target=\"_parent\"><img src=\"https://colab.research.google.com/assets/colab-badge.svg\" alt=\"Open In Colab\"/></a>"
      ]
    },
    {
      "cell_type": "markdown",
      "metadata": {
        "collapsed": true,
        "pycharm": {
          "name": "#%% md\n"
        },
        "id": "9hUUg-JKVxyN"
      },
      "source": [
        "# Variables and Numerical Types\n",
        "\n",
        "In Python everything is an `object`. This will make more sense as we go on but for now it's enough\n",
        "to understand that every `object` has a type, even object itself has a type (of type, type - confusing I know).\n",
        "This tells us what kind of data the object contains. Let's try this with some simple examples."
      ]
    },
    {
      "cell_type": "code",
      "source": [
        "greeting = \"Hello\"\n",
        "\n",
        "type(5)"
      ],
      "metadata": {
        "colab": {
          "base_uri": "https://localhost:8080/"
        },
        "id": "g98ZcwRHWecz",
        "outputId": "9758feba-6f8c-4c32-fd69-10980011137a"
      },
      "execution_count": 2,
      "outputs": [
        {
          "output_type": "execute_result",
          "data": {
            "text/plain": [
              "int"
            ]
          },
          "metadata": {},
          "execution_count": 2
        }
      ]
    },
    {
      "cell_type": "markdown",
      "source": [
        "To make our code more readable we can assign names to our objects and reference them as variables using the assignment operator `=`. Just like in the last lesson."
      ],
      "metadata": {
        "collapsed": false,
        "pycharm": {
          "name": "#%% md\n"
        },
        "id": "ncCAaQCKVxyW"
      }
    },
    {
      "cell_type": "code",
      "source": [
        "1some_var= \"Hello\"\n",
        "\n",
        "print(some_var)\n",
        "\n",
        "some_var = 15\n",
        "\n",
        "print(some_var)\n",
        "\n",
        "some_var =\"hello, again\n",
        "\n",
        "print(some_var)\""
      ],
      "metadata": {
        "colab": {
          "base_uri": "https://localhost:8080/",
          "height": 130
        },
        "id": "gMk5t8QbWsrD",
        "outputId": "26108db3-3e3a-4f94-9cef-901b3a1f758e"
      },
      "execution_count": 6,
      "outputs": [
        {
          "output_type": "error",
          "ename": "SyntaxError",
          "evalue": "ignored",
          "traceback": [
            "\u001b[0;36m  File \u001b[0;32m\"<ipython-input-6-a986079b4909>\"\u001b[0;36m, line \u001b[0;32m1\u001b[0m\n\u001b[0;31m    1some_var= \"Hello\"\u001b[0m\n\u001b[0m            ^\u001b[0m\n\u001b[0;31mSyntaxError\u001b[0m\u001b[0;31m:\u001b[0m invalid syntax\n"
          ]
        }
      ]
    },
    {
      "cell_type": "markdown",
      "source": [
        "This can be thought of as reading the sentence 'greeting is \"Hello\".'\n",
        "\n",
        "In Python variables can be reassigned at will. This has to do with the concept of mutability. In some languages there are both mutable and immutable variables. A mutable, or changeable, variable can be reassigned as desired, but an immutable variable is unchanging and cannot be reassigned. In Python variables are for the most part mutable, however it is possible to emulate immutability in Python if desired."
      ],
      "metadata": {
        "collapsed": false,
        "id": "cNBbExvWVxyY"
      }
    },
    {
      "cell_type": "markdown",
      "source": [
        "We can assign variables using other variables as well."
      ],
      "metadata": {
        "collapsed": false,
        "id": "swBgHPehVxyZ"
      }
    },
    {
      "cell_type": "markdown",
      "source": [
        "We want to be careful when declaring variables in Python because while these behaviours are extremely helpful they can also cause our programs to behave unexpectedly at runtime if we are not careful."
      ],
      "metadata": {
        "collapsed": false,
        "id": "nTfhdu00VxyZ"
      }
    },
    {
      "cell_type": "markdown",
      "source": [
        "Notice how the `custom_greeting` still uses the value of `greeting` as it existed at the time it was assigned."
      ],
      "metadata": {
        "collapsed": false,
        "id": "PxDu_7DRVxya"
      }
    },
    {
      "cell_type": "code",
      "source": [
        "greeting = \"hello\"\n",
        "name = \"Jonathan\"\n",
        "\n",
        "\n",
        "costom_greeting = f\"{greeting}, {name}\"\n",
        "\n",
        "print(costom_greeting)\n",
        "\n"
      ],
      "metadata": {
        "colab": {
          "base_uri": "https://localhost:8080/"
        },
        "id": "ybzV9MCrXuJK",
        "outputId": "1ccebd15-bf5c-479c-cf47-ee220625d48f"
      },
      "execution_count": 8,
      "outputs": [
        {
          "output_type": "stream",
          "name": "stdout",
          "text": [
            "hello, Jonathan\n"
          ]
        }
      ]
    },
    {
      "cell_type": "markdown",
      "source": [
        "In Python, we can also chain assignments to assign multiple variables at the same time, this is known as chained assignment."
      ],
      "metadata": {
        "collapsed": false,
        "id": "HKMK0l3rVxyb"
      }
    },
    {
      "cell_type": "code",
      "source": [
        "greeting1 = greeting2 = greeting3 = \"hello\"\n",
        "\n",
        "print(greeting1)\n",
        "print(greeting2)\n",
        "print(greeting3)\n",
        "\n",
        "greeting1 = \"hi\"\n",
        "greeting2 = \"hey\"\n",
        "\n",
        "print(greeting1)\n",
        "print(greeting2)\n",
        "print(greeting3)"
      ],
      "metadata": {
        "colab": {
          "base_uri": "https://localhost:8080/"
        },
        "id": "XelQSZqDYg3Y",
        "outputId": "ca46b95c-2179-4fcd-e318-373e429e5591"
      },
      "execution_count": 11,
      "outputs": [
        {
          "output_type": "stream",
          "name": "stdout",
          "text": [
            "hello\n",
            "hello\n",
            "hello\n",
            "hi\n",
            "hey\n",
            "hello\n"
          ]
        }
      ]
    },
    {
      "cell_type": "markdown",
      "source": [
        "Sometimes we may need to assign variables to two different things at the same time we can do that as well"
      ],
      "metadata": {
        "collapsed": false,
        "id": "uv9yCblwVxyc"
      }
    },
    {
      "cell_type": "code",
      "source": [
        ""
      ],
      "metadata": {
        "id": "mIXO9zDhZHuG"
      },
      "execution_count": null,
      "outputs": []
    },
    {
      "cell_type": "markdown",
      "source": [
        "There are some rules and guidelines about what we can name variables. In Python, variables must begin with a letter or underscore (underscores are for private variables). [PEP8](https://www.python.org/dev/peps/pep-0008/#naming-conventions) outlines the various naming conventions used by Python developers.\n",
        "\n",
        "In addition to these guidelines there are also reserved keywords which have specific meaning to the Python interpreter:\n",
        "\n",
        "\n",
        "Python\n",
        "Keywords\n",
        "```python\n",
        "False\tdef\tif\traise\n",
        "None\tdel\timport\treturn\n",
        "True\telif\tin\ttry\n",
        "and\telse\tis\twhile\n",
        "as\texcept\tlambda\twith\n",
        "assert\tfinally\tnonlocal\tyield\n",
        "break\tfor\tnot\n",
        "class\tfrom\tor\n",
        "continue\tglobal\tpass\n",
        "```"
      ],
      "metadata": {
        "collapsed": false,
        "id": "ztIZToCHVxye"
      }
    },
    {
      "cell_type": "code",
      "source": [
        "flase = \"no\" "
      ],
      "metadata": {
        "id": "UojclMMNZ4QC"
      },
      "execution_count": null,
      "outputs": []
    },
    {
      "cell_type": "markdown",
      "source": [
        "### Numerical Types\n",
        "\n",
        "Lets cover some basics about working with numbers in Python. There are two main numerical types in Python: integers and floats."
      ],
      "metadata": {
        "collapsed": false,
        "id": "QtB252FqVxyf"
      }
    },
    {
      "cell_type": "code",
      "source": [
        "type(1)\n",
        "int \n",
        "\n",
        "type(1.0)\n",
        "float "
      ],
      "metadata": {
        "colab": {
          "base_uri": "https://localhost:8080/"
        },
        "id": "vn80cUpEaD6R",
        "outputId": "9b6be9bb-72ed-4022-8e52-ce505f72b168"
      },
      "execution_count": 12,
      "outputs": [
        {
          "output_type": "execute_result",
          "data": {
            "text/plain": [
              "float"
            ]
          },
          "metadata": {},
          "execution_count": 12
        }
      ]
    },
    {
      "cell_type": "markdown",
      "source": [
        "The only limit to how long and integer can be is the memory available to the machine, in addition to standard notation Python supports scientific notation"
      ],
      "metadata": {
        "collapsed": false,
        "id": "TI3qQJJDVxyg"
      }
    },
    {
      "cell_type": "markdown",
      "source": [
        "Notice above that the two representations are not equal this is because of imprecision in converting between binary and base 10 systems.\n",
        "\n",
        "The maximum value of a float in Python is $1.8 * 10^{308}$"
      ],
      "metadata": {
        "collapsed": false,
        "id": "8GM_u1_jVxyh"
      }
    },
    {
      "cell_type": "markdown",
      "source": [
        "Anything larger than that is represented as infinity"
      ],
      "metadata": {
        "collapsed": false,
        "id": "c0kGpoQ3Vxyi"
      }
    },
    {
      "cell_type": "markdown",
      "source": [
        "In Python we can also represent complex numbers"
      ],
      "metadata": {
        "collapsed": false,
        "id": "_957gotmVxyi"
      }
    },
    {
      "cell_type": "markdown",
      "source": [
        "Complex numbers have a real and imaginary component"
      ],
      "metadata": {
        "collapsed": false,
        "id": "UkdMOlovVxyj"
      }
    },
    {
      "cell_type": "code",
      "source": [
        "8j.imag\n",
        "8j.real"
      ],
      "metadata": {
        "id": "ItYX8rOlbAII"
      },
      "execution_count": null,
      "outputs": []
    },
    {
      "cell_type": "markdown",
      "source": [
        "If we wanted to find out the value of j when h is equal to 12"
      ],
      "metadata": {
        "collapsed": false,
        "pycharm": {
          "name": "#%% md\n"
        },
        "id": "_05Pb_i0Vxyj"
      }
    },
    {
      "cell_type": "code",
      "source": [
        ""
      ],
      "metadata": {
        "colab": {
          "base_uri": "https://localhost:8080/",
          "height": 130
        },
        "id": "ErQh8Rz4bL4X",
        "outputId": "670d9f93-0911-45f3-c6a6-40b8f8ae9862"
      },
      "execution_count": 21,
      "outputs": [
        {
          "output_type": "error",
          "ename": "SyntaxError",
          "evalue": "ignored",
          "traceback": [
            "\u001b[0;36m  File \u001b[0;32m\"<ipython-input-21-d0205983a11e>\"\u001b[0;36m, line \u001b[0;32m1\u001b[0m\n\u001b[0;31m    12 = 8j + 4\u001b[0m\n\u001b[0m               ^\u001b[0m\n\u001b[0;31mSyntaxError\u001b[0m\u001b[0;31m:\u001b[0m can't assign to literal\n"
          ]
        }
      ]
    }
  ],
  "metadata": {
    "kernelspec": {
      "name": "python3",
      "language": "python",
      "display_name": "Python 3 (ipykernel)"
    },
    "language_info": {
      "codemirror_mode": {
        "name": "ipython",
        "version": 2
      },
      "file_extension": ".py",
      "mimetype": "text/x-python",
      "name": "python",
      "nbconvert_exporter": "python",
      "pygments_lexer": "ipython2",
      "version": "2.7.6"
    },
    "colab": {
      "name": "JONATHAN MOORE - Copy of 01_Variables-and-numerical-types-lecture.ipynb",
      "provenance": [],
      "include_colab_link": true
    }
  },
  "nbformat": 4,
  "nbformat_minor": 0
}